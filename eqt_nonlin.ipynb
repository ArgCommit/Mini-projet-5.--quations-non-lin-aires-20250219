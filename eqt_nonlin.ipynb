{
 "cells": [
  {
   "cell_type": "markdown",
   "id": "eb8acad0-6cfe-4cc3-b4ae-b2c43b9f4f6c",
   "metadata": {},
   "source": [
    "<div style=\"text-align: center; font-family: Arial, sans-serif; margin-top: 50px;\">\n",
    "<h1 style=\"font-size: 36px; font-weight: bold; color: #4CAF50;\">Mini-devoir 5 -- Hiver 2025</h1>\n",
    "<h1 style=\"font-size: 20px; font-weight: bold; color: #4CAF50;\">PHS3903 -- Projet de simulation</h1>\n",
    "<h2 style=\"font-size: 20px; margin-bottom: 20px;\">[Argueta, Enrique]</h2>\n",
    "<h2 style=\"font-size: 16px; margin-bottom: 10px;\">[2118071]</h2>\n",
    "<h2 style=\"font-size: 20px; margin-bottom: 20px;\">[Chabchoub, Alaa]</h2>\n",
    "<h2 style=\"font-size: 16px; margin-bottom: 10px;\">[2054597]</h2>\n",
    "<h2 style=\"font-size: 16px; margin-bottom: 10px;\">[26-2-2025]</h2>\n",
    "<h2 style=\"font-size: 16px; margin-bottom: 10px;\">[Nom des Professeurs]</h2>\n",
    "</div>\n",
    "\n",
    "--------------------------------------------------------------------------------------------------------------------------------------------------------\n"
   ]
  },
  {
   "cell_type": "markdown",
   "id": "6d504482-5287-43cc-affb-6df9af523860",
   "metadata": {},
   "source": [
    "--------------------------------------------------------------------------------------------------------------------------------------------------------\n"
   ]
  },
  {
   "cell_type": "markdown",
   "id": "2a39a968-9eaa-48b0-a46a-734b6be1eed1",
   "metadata": {},
   "source": [
    "## Directives\n",
    "\n",
    "Répondre aux questions suivantes à l'aide du code Python fourni sur Moodle, auquel vous aurez apporté les modifications nécessaires. Justifier vos réponses avec clarté et concision. Vos tableaux et figures doivent être lisibles et présentés selon les règles de l'art.\n",
    "\n",
    "Remettre un fichier en format Jupyter Notebook (.ipynb) en utilisant le gabarit fourni dans la boîte de dépôt Moodle.\n"
   ]
  },
  {
   "cell_type": "markdown",
   "id": "c1f94c0f-cf19-4a5a-98e2-25cf28457811",
   "metadata": {},
   "source": [
    "--------------------------------------------------------------------------------------------------------------------------------------------------------\n"
   ]
  },
  {
   "cell_type": "markdown",
   "id": "fcb9c35e-4f12-4606-b9e7-e0f4e385d87d",
   "metadata": {},
   "source": [
    "## Méthode de Newton pour ajustement des données expérimentales (20 points)\n",
    "\n",
    "Dans le cadre de ce mini-projet, nous utiliserons la méthode de Newton pour ajuster sur des données expérimentales une équation analytique de la forme :\n",
    "$$ye = \\frac{p_1}{p^2_2 + (xe-p_3)^2}$$\n",
    "Les données à importer dans votre code se trouvent dans le fichier « mini\\_projet\\_3\\_donnees.txt ».\n",
    "\n",
    "Entre autre, on vous demande de programmer la méthode de Newton pour déduire la valeur des paramètres $p_1$, $p_2$, et $p_3$. Ce problème d’ajustement de modèle théorique $(x,y)$ sur des données expérimentales $(x_e, y_e)$ peut être ramené à la minimisation de la fonction d’erreur :\n",
    "$$Q(p_1, p_2, p_3) = \\frac{1}{2}\\sum_{i=1}^{\\text{length}(xe)} q_i(p_1, p_2, p_3)^2$$\n",
    "où on définit :\n",
    "$$q_i(p_1, p_2, p_3) = ye_i - \\frac{p_1}{p^2_2 + (xe-p_3)^2} \\,.$$\n"
   ]
  },
  {
   "cell_type": "markdown",
   "id": "a8170152-fc87-4f4e-ae92-9553df2a3c9d",
   "metadata": {},
   "source": [
    "--------------------------------------------------------------------------------------------------------------------------------------------------------"
   ]
  },
  {
   "cell_type": "markdown",
   "id": "21e8d3c2-fadc-4778-8f3a-cea547875deb",
   "metadata": {},
   "source": [
    "### Question 1 : Déterminer les dérivées\n",
    "\n",
    "**(5 points)** Écrivez de façon explicite les trois expressions des dérivées de premier ordre $\\frac{\\partial q_i}{\\partial p_j}$ avec $j = 1, 2, 3$ au moyen de (3).\n",
    "\n",
    "**(5 points)** Écrivez de façon explicite les neuf expressions de dérivée seconde $\\frac{\\partial^2 q_i}{\\partial p_j \\partial p_k}$, avec $j, k = 1, 2, 3$. Notez bien que seules six d’entre elles sont différentes.\n"
   ]
  },
  {
   "cell_type": "markdown",
   "id": "e6d59e0f-440a-46bc-a271-fa09ec09ab52",
   "metadata": {},
   "source": [
    "### Réponse **a)** :\n"
   ]
  },
  {
   "cell_type": "markdown",
   "id": "0946e814-bfe3-4e95-8c43-ead69e05cd83",
   "metadata": {},
   "source": [
    "### Réponse **b)** :\n"
   ]
  },
  {
   "cell_type": "markdown",
   "id": "432cefb9-3aa2-42ba-a2de-c6480f10a8a2",
   "metadata": {},
   "source": [
    "--------------------------------------------------------------------------------------------------------------------------------------------------------"
   ]
  },
  {
   "cell_type": "markdown",
   "id": "622bbe9c-ba99-401c-ab67-0c301a1f6e5a",
   "metadata": {},
   "source": [
    "### Question 2 : Implémentation de la méthode de Newton\n",
    "\n",
    "**(3 points)** Utilisez les données expérimentales qui se trouvent dans le fichier *mini_projet_3_donnees.txt* (le fichier est disponible sur Moodle). Utilisez une tolérance $\\text{tol} = 10^{-6}$. Quelles sont les valeurs convergées des paramètres $p_1^{(conv)}$, $p_2^{(conv)}$, $p_3^{(conv)}$ ? Donnez un exemple des valeurs initiales $\\mathbf{p}_0 = (p_1, p_2, p_3)$ qui mènent à la convergence d’une méthode de Newton.\n",
    "\n",
    "**(2 points)** Quelle est la valeur de la fonction d’erreur $Q(p_1^{(conv)}, p_2^{(conv)}, p_3^{(conv)}$ ?\n"
   ]
  },
  {
   "cell_type": "markdown",
   "id": "b54d8267-8ccc-468b-a377-65e3187fdf4d",
   "metadata": {},
   "source": [
    "### Réponse **c)** :\n"
   ]
  },
  {
   "cell_type": "code",
   "execution_count": null,
   "id": "2a6ef6e2-b349-47cf-8fcc-4e1b8ae55eb4",
   "metadata": {},
   "outputs": [],
   "source": [
    "import numpy as np\n",
    "import matplotlib.pyplot as plt\n",
    "\n",
    "# Valeurs initiales pour les paramètres (à ajuster selon les résultats précédents)\n",
    "p0 = p1_conv, p2_conv, p3_conv = 1.0, 0.5, 0.2  # Remplacer par les valeurs réelles trouvées\n",
    "tol = 1e-6\n",
    "\n",
    "def read_data(filename):\n",
    "    data = np.loadtxt(filename)  # Charge le fichier sous forme de tableau NumPy\n",
    "    x = data[:, 0]  # Première colonne : x\n",
    "    y = data[:, 1]  # Deuxième colonne : y\n",
    "    return x, y\n",
    "\n",
    "# Exemple d'utilisation\n",
    "filename = \"mini_projet_4_donnees.txt\"\n",
    "x, y = read_data(filename)\n",
    "\n",
    "# Méthode de Newton pour ajuster les paramètres p1, p2, p3\n",
    "def newton_method(x, y, p1, p2, p3, tol):\n",
    "    N = len(x)\n",
    "    c = 0\n",
    "    err = 2 * tol\n",
    "\n",
    "    while err > tol and c < 100:\n",
    "        c += 1\n",
    "        \n",
    "        # Calcul de la fonction d'erreur et ses dérivées par rapport à p1, p2, p3\n",
    "        q = y - p1 / (p2**2 + (x - p3)**2)\n",
    "        dqdp1 = -1 / (p2**2 + (x - p3)**2)\n",
    "        dqdp2 = 2 * p2 * p1 / (p2**2 + (x - p3)**2)**2\n",
    "        dqdp3 = -2 * (x - p3) * p1 / (p2**2 + (x - p3)**2)**2\n",
    "\n",
    "        F1 = np.sum(q * dqdp1)\n",
    "        F2 = np.sum(q * dqdp2)\n",
    "        F3 = np.sum(q * dqdp3)\n",
    "        F = np.array([F1, F2, F3])\n",
    "\n",
    "        # Calcul des dérivées secondes\n",
    "        d2qdp1dp2 = 2 * p2 / (p2**2 + (x - p3)**2)**2\n",
    "        d2qdp1dp3 = -2 * (x - p3) / (p2**2 + (x - p3)**2)**2\n",
    "        d2qdp2dp3 = 8 * p1 * (x - p3) * p2 / (p2**2 + (x - p3)**2)**3\n",
    "        d2qd2p3 = (2 * p1 * p3 / (p2**2 + (x - p3)**2)**2) - (8 * p1 * (x - p3)**2 / (p2**2 + (x - p3)**2)**3)\n",
    "        d2qd2p1 = 0  \n",
    "        d2qd2p2 = (2 * p1 / (p2**2 + (x - p3)**2)**2) - (4 * p1 * p2**2 / (p2**2 + (x - p3)**2)**3)\n",
    "\n",
    "\n",
    "        # Calcul de la matrice Jacobienne\n",
    "        dF1dp1 = np.sum(dqdp1 * dqdp1) + np.sum(q * d2qd2p1)\n",
    "        dF1dp2 = np.sum(dqdp2 * dqdp1) + np.sum(q * d2qdp1dp2)\n",
    "        dF1dp3 = np.sum(dqdp3 * dqdp1) + np.sum(q * d2qdp1dp3)\n",
    "        dF2dp1 = np.sum(dqdp1 * dqdp2) + np.sum(q * d2qdp1dp2)\n",
    "        dF2dp2 = np.sum(dqdp2 * dqdp2) + np.sum(q * d2qd2p2)\n",
    "        dF2dp3 = np.sum(dqdp3 * dqdp2) + np.sum(q * d2qdp2dp3)\n",
    "        dF3dp1 = np.sum(dqdp1 * dqdp3) + np.sum(q * d2qdp1dp3)\n",
    "        dF3dp2 = np.sum(dqdp2 * dqdp3) + np.sum(q * d2qdp2dp3)\n",
    "        dF3dp3 = np.sum(dqdp3 * dqdp3) + np.sum(q * d2qd2p3)\n",
    "               \n",
    "\n",
    "        dFdc = np.array([\n",
    "            [dF1dp1, dF1dp2, dF1dp3],\n",
    "            [dF2dp1, dF2dp2, dF2dp3],\n",
    "            [dF3dp1, dF3dp2, dF3dp3]\n",
    "        ])\n",
    "\n",
    "        lambda_reg = 1e-6  # Petite valeur pour régulariser\n",
    "        dFdc += lambda_reg * np.eye(3)  # Ajouter pour stabiliser l'inversion\n",
    "\n",
    "        # Mise à jour des paramètres\n",
    "        dc = -np.linalg.solve(dFdc, F)\n",
    "        p1 += dc[0]\n",
    "        p2 += dc[1]\n",
    "        p3 += dc[2]\n",
    "        err = np.linalg.norm(dc)\n",
    "        #print(f\"Iteration {c}: p1={p1:.6f}, p2={p2:.6f}, p3={p3:.6f}, err={err:.6e}\")\n",
    "\n",
    "    return p1, p2, p3, err\n",
    "\n",
    "\n",
    "\n",
    "# Trouver les valeurs convergées\n",
    "p1_final, p2_final, p3_final, err = newton_method(x, y, *p0, tol)\n",
    "print(f\"Valeurs convergées pour p0= {p0},  p1 = {p1_final:.6f}, p2 = {p2_final:.6f}, p3 = {p3_final:.6f}, err= {err}\")\n",
    "\n",
    "\n",
    "# pas de convergence avec p0\n",
    "# optimiser amplitude, centre et largeur de la courbe \n",
    "\n",
    "p1_init = np.max(y)  # valeur maximale de y\n",
    "p2_init = np.std(x)  # Écart-type de x \n",
    "p3_init = np.mean(x)  # Moyenne des x\n",
    "p02 = (p1_init , p2_init, p3_init ) \n",
    "\n",
    "p1_final, p2_final, p3_final, err = newton_method(x, y, *p02, tol)\n",
    "print(f\"Valeurs convergées pour p0={[f'{p:.6f}' for p in p02]} : p1 = {p1_final:.6f}, p2 = {p2_final:.6f}, p3 = {p3_final:.6f}, err= {err}\")\n",
    "# ne converge pas \n",
    "\n",
    "# rajouter et ou enlever 10 ou 20%\n",
    "p01 = (p1_init * 1.2 , p2_init * 0.8, p3_init * 1.1 ) \n",
    "\n",
    "p1_final, p2_final, p3_final, err = newton_method(x, y, *p01, tol)\n",
    "print(f\"Valeurs convergées pour p0={[f'{p:.6f}' for p in p01]} : p1 = {p1_final:.6f}, p2 = {p2_final:.6f}, p3 = {p3_final:.6f}, err= {err}\")\n",
    "\n",
    "def model_function(x, p1, p2, p3):\n",
    "    return p1 / (p2**2 + (x - p3)**2)\n",
    "\n",
    "#Générer une courbe lisse pour la fonction ajustée\n",
    "x_fit = np.linspace(min(x), max(x), 500) \n",
    "y_fit = model_function(x_fit, p1_final, p2_final, p3_final)\n",
    "\n",
    "# Tracé des données expérimentales\n",
    "plt.scatter(x, y, color='red', label=\"Données expérimentales\")  \n",
    "plt.plot(x_fit, y_fit, color='blue', label=\"Modèle ajusté (Newton)\")  \n",
    "\n",
    "# Ajout des labels et légende\n",
    "plt.xlabel(\"x\")\n",
    "plt.ylabel(\"y\")\n",
    "plt.title(\"Ajustement du modèle sur les données expérimentales\")\n",
    "plt.legend()\n",
    "plt.grid()\n",
    "plt.show()\n",
    "\n"
   ]
  },
  {
   "cell_type": "markdown",
   "id": "c76b6083-78db-4b2a-aae4-ffdbdde1323a",
   "metadata": {},
   "source": [
    "### Réponse **d)** :\n"
   ]
  },
  {
   "cell_type": "code",
   "execution_count": null,
   "id": "b181353b-4ebc-4711-a5ea-b96f428d9990",
   "metadata": {},
   "outputs": [],
   "source": [
    "# Calcul de la fonction d'erreur Q\n",
    "def error_function(p1, p2, p3, x, y):\n",
    "    q = y - (p1 / (p2**2 + (x - p3)**2))  # Calcul de q_i pour chaque point\n",
    "    Q = 0.5 * np.sum(q**2)  # Somme des carrés des erreurs, multipliée par 1/2\n",
    "    return Q\n",
    "\n",
    "Q_final = error_function(p1_final, p2_final, p3_final, x, y)\n",
    "print(f\"Valeur de la fonction d'erreur Q : {Q_final}\")\n"
   ]
  },
  {
   "cell_type": "markdown",
   "id": "3ed7db3e-5f02-4a94-b5d5-1cf1723468ba",
   "metadata": {},
   "source": [
    "--------------------------------------------------------------------------------------------------------------------------------------------------------\n"
   ]
  },
  {
   "cell_type": "markdown",
   "id": "e7cbf501-6bdb-438b-842b-0a7f4813e7bf",
   "metadata": {},
   "source": [
    "### Question 3 : Sensibilité de la méthode\n",
    "\n",
    "**(3 points)** Il est bien connu que la convergence de la méthode de Newton est très sensible aux estimations initiales des paramètres $\\mathbf{p}_0$. Il est donc intéressant d’étudier la région de convergence de la méthode.\n",
    "\n",
    "En particulier, utilisez les valeurs convergées des paramètres $p_1^{(conv)}$, $p_2^{(conv)}$, $p_3^{(conv)}$ trouvés dans la partie c). Répétez la méthode de Newton pour différentes valeurs initiales de la forme $\\mathbf{p}_n^{(0)} = (p_1^{(conv)}, p_2^{(conv)}, p_3) $, avec $p_3 = (0:0.001:2)p_3^{(conv)}$. Ensuite, tracez $Q$ comme une fonction de $p_3$ sur l’échelle logarithmique.\n"
   ]
  },
  {
   "cell_type": "markdown",
   "id": "801ad6de-67f0-4ea8-ac0e-5de9a59773f8",
   "metadata": {},
   "source": [
    "### Reponse **e)** :"
   ]
  },
  {
   "cell_type": "code",
   "execution_count": null,
   "id": "c782209a-e220-4032-8a29-50ddb2e9ba8b",
   "metadata": {},
   "outputs": [],
   "source": [
    "# Fonction principale pour explorer la région de convergence\n",
    "import matplotlib.pyplot as plt\n",
    "\n",
    "p3_values = np.arange(0, 2 * p3_final, 0.001 * p3_final)\n",
    "def explorer_convergence(p1_conv, p2_conv, p3_conv, x, y, tol=1e-6):\n",
    "    global p3_values\n",
    "    Q_values = []\n",
    "    p3Evaluated = []\n",
    "    stable_p3_min = None\n",
    "    stable_p3_max = None\n",
    "\n",
    "    for p3 in p3_values:\n",
    "        p1, p2, p3_final, err = newton_method(x, y, p1_conv, p2_conv, p3, tol)\n",
    "        Q = error_function(p1, p2, p3_final, x, y)\n",
    "        Q_values.append(Q)\n",
    "        p3Evaluated.append(p3)\n",
    "\n",
    "\n",
    "    plt.plot(p3Evaluated, Q_values, label=\"Fonction d'erreur Q\")\n",
    "    plt.yscale('log')  \n",
    "    plt.xlabel(\"p3\")\n",
    "    plt.ylabel(\"Q\")\n",
    "    plt.title(\"Convergence en fonction de p3\")\n",
    "    plt.legend()\n",
    "    plt.show()\n",
    "    return stable_p3_min, stable_p3_max , Q_values\n",
    "\n",
    "# Explorer la convergence pour différentes valeurs de p3\n",
    "p3_min, p3_max, Qvalues = explorer_convergence(p1_final, p2_final, p3_final, x, y, tol)\n",
    "\n"
   ]
  },
  {
   "cell_type": "markdown",
   "id": "f0fb0226-6b8a-4ccf-a949-23300a020dcd",
   "metadata": {},
   "source": [
    "**(2 points)** Trouvez le plus large intervalle de stabilité $p_3^{(min)} \\leq p_3 \\leq p_3^{(max)}$ de la méthode en fonction de la valeur de $p_3$. Quelles sont les valeurs de $p_3^{(min)}$ et $p_3^{(max)}$ ?"
   ]
  },
  {
   "cell_type": "markdown",
   "id": "c40e4926-0265-456e-b4a1-f244ed61d3f5",
   "metadata": {},
   "source": [
    "### Réponse **f)** :"
   ]
  },
  {
   "cell_type": "markdown",
   "id": "ca28c20d-c5fc-40ef-8492-9010a04e89aa",
   "metadata": {},
   "source": [
    "--------------------------------------------------------------------------------------------------------------------------------------------------------"
   ]
  },
  {
   "cell_type": "code",
   "execution_count": null,
   "id": "492132b1-2f48-4f39-ac0c-18bd123c14d6",
   "metadata": {},
   "outputs": [],
   "source": [
    "Qlog = np.log(np.array(Qvalues))\n",
    "\n",
    "\n",
    "oscillation = 0.1\n",
    "intervalleMax = 0\n",
    "iD = 0\n",
    "refID = 0\n",
    "ref=None\n",
    "for i, val in enumerate(Qlog):\n",
    "    if ref is None: ref = val; refID = i\n",
    "    if ref > (Qlog[i] + oscillation) or  ref < (Qlog[i] - oscillation):\n",
    "        if intervalleMax < (i- refID):\n",
    "            iD = refID\n",
    "            intervalleMax = (i- refID)\n",
    "        ref = None\n",
    "print(f\"La plus large Intervalle de stabilité est : p3_min = {p3_values[iD]:.6f}, p3_max = {p3_values[iD+intervalleMax]:.6f}\")\n",
    "\n",
    "    \n",
    "    "
   ]
  }
 ],
 "metadata": {
  "kernelspec": {
   "display_name": "Python 3",
   "language": "python",
   "name": "python3"
  },
  "language_info": {
   "codemirror_mode": {
    "name": "ipython",
    "version": 3
   },
   "file_extension": ".py",
   "mimetype": "text/x-python",
   "name": "python",
   "nbconvert_exporter": "python",
   "pygments_lexer": "ipython3",
   "version": "3.13.2"
  }
 },
 "nbformat": 4,
 "nbformat_minor": 5
}
